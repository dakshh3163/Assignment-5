{
 "cells": [
  {
   "cell_type": "code",
   "execution_count": 18,
   "metadata": {},
   "outputs": [],
   "source": [
    "import numpy as np\n",
    "from scipy import linalg, special, sparse\n",
    "from scipy.linalg import eig"
   ]
  },
  {
   "cell_type": "code",
   "execution_count": 4,
   "metadata": {},
   "outputs": [
    {
     "name": "stdout",
     "output_type": "stream",
     "text": [
      "[[1. 1. 1. 1.]\n",
      " [1. 1. 1. 1.]\n",
      " [1. 1. 1. 1.]\n",
      " [1. 1. 1. 1.]]\n"
     ]
    }
   ],
   "source": [
    "# problem 1 \n",
    "arr = np.ones((4, 4))\n",
    "np.savetxt('test.text', arr)\n",
    "data = np.loadtxt('test.text')\n",
    "print(data)"
   ]
  },
  {
   "cell_type": "code",
   "execution_count": 10,
   "metadata": {},
   "outputs": [
    {
     "name": "stdout",
     "output_type": "stream",
     "text": [
      "3.0 4.0 9.6 "
     ]
    }
   ],
   "source": [
    "# problem 2 \n",
    "values = [27, 64, 891]\n",
    "cubic_roots = special.cbrt(values)\n",
    "for value in cubic_roots:\n",
    "    print(f\"{value:.2f}\",end=\" \",)"
   ]
  },
  {
   "cell_type": "code",
   "execution_count": 11,
   "metadata": {},
   "outputs": [
    {
     "name": "stdout",
     "output_type": "stream",
     "text": [
      "-7.0\n"
     ]
    }
   ],
   "source": [
    "# problem 3\n",
    "matrix = np.array([[4, 5], [3, 2]])\n",
    "det = linalg.det(matrix)\n",
    "print(det)"
   ]
  },
  {
   "cell_type": "code",
   "execution_count": 17,
   "metadata": {},
   "outputs": [
    {
     "name": "stdout",
     "output_type": "stream",
     "text": [
      "Eigenvalues:\n",
      "[ 9.+0.j -1.+0.j]\n",
      "Eigenvectors:\n",
      "[[ 0.70710678 -0.5547002 ]\n",
      " [ 0.70710678  0.83205029]]\n"
     ]
    }
   ],
   "source": [
    "# problem 4\n",
    "matrix = np.array([[5, 4],\n",
    "                   [6,  3]])\n",
    "\n",
    "eigenvalues, eigenvectors = eig(matrix)\n",
    "print(\"Eigenvalues:\")\n",
    "print(eigenvalues)\n",
    "\n",
    "print(\"Eigenvectors:\")\n",
    "print(eigenvectors)"
   ]
  },
  {
   "cell_type": "code",
   "execution_count": 20,
   "metadata": {},
   "outputs": [
    {
     "name": "stdout",
     "output_type": "stream",
     "text": [
      "Matrix A (CSR):\n",
      "<Compressed Sparse Row sparse matrix of dtype 'int64'\n",
      "\twith 3 stored elements and shape (3, 3)>\n",
      "  Coords\tValues\n",
      "  (0, 2)\t1\n",
      "  (1, 0)\t1\n",
      "  (2, 1)\t2\n",
      "\n",
      "Matrix B (CSC):\n",
      "<Compressed Sparse Column sparse matrix of dtype 'int64'\n",
      "\twith 3 stored elements and shape (3, 3)>\n",
      "  Coords\tValues\n",
      "  (0, 0)\t5\n",
      "  (2, 1)\t4\n",
      "  (1, 2)\t3\n",
      "\n",
      "Dense format of A:\n",
      "[[0 0 1]\n",
      " [1 0 0]\n",
      " [0 2 0]]\n",
      "\n",
      "Transpose of B:\n",
      "[[5 0 0]\n",
      " [0 0 4]\n",
      " [0 3 0]]\n",
      "\n",
      "Product of A and B:\n",
      "[[0 4 0]\n",
      " [5 0 0]\n",
      " [0 0 6]]\n",
      "\n",
      "Non-zero elements in A: 3\n",
      "Non-zero elements in B: 3\n"
     ]
    }
   ],
   "source": [
    "# problem 5\n",
    "A = sparse.csr_matrix([[0, 0, 1], [1, 0, 0], [0, 2, 0]])\n",
    "print(\"Matrix A (CSR):\")\n",
    "print(A)\n",
    "\n",
    "B = sparse.csc_matrix([[5, 0, 0], [0, 0, 3], [0, 4, 0]])\n",
    "print(\"\\nMatrix B (CSC):\")\n",
    "print(B)\n",
    "\n",
    "dense_A = A.toarray()\n",
    "print(\"\\nDense format of A:\")\n",
    "print(dense_A)\n",
    "\n",
    "B_T = B.transpose()\n",
    "print(\"\\nTranspose of B:\")\n",
    "print(B_T.toarray())\n",
    "\n",
    "product = A.dot(B)\n",
    "print(\"\\nProduct of A and B:\")\n",
    "print(product.toarray())\n",
    "print(\"\\nNon-zero elements in A:\", A.nnz)\n",
    "print(\"Non-zero elements in B:\", B.nnz)"
   ]
  }
 ],
 "metadata": {
  "kernelspec": {
   "display_name": "Python 3",
   "language": "python",
   "name": "python3"
  },
  "language_info": {
   "codemirror_mode": {
    "name": "ipython",
    "version": 3
   },
   "file_extension": ".py",
   "mimetype": "text/x-python",
   "name": "python",
   "nbconvert_exporter": "python",
   "pygments_lexer": "ipython3",
   "version": "3.12.5"
  }
 },
 "nbformat": 4,
 "nbformat_minor": 2
}
